{
 "cells": [
  {
   "cell_type": "code",
   "execution_count": 95,
   "metadata": {},
   "outputs": [],
   "source": [
    "import pandas as pd \n",
    "import numpy as np \n",
    "import seaborn as sns\n"
   ]
  },
  {
   "cell_type": "code",
   "execution_count": 96,
   "metadata": {},
   "outputs": [],
   "source": [
    "file_path = '/Users/himajananduri/py/pyt/flipkart_product.csv'"
   ]
  },
  {
   "cell_type": "code",
   "execution_count": 97,
   "metadata": {},
   "outputs": [],
   "source": [
    "df = pd.read_csv(file_path, encoding='latin-1')"
   ]
  },
  {
   "cell_type": "code",
   "execution_count": 98,
   "metadata": {},
   "outputs": [],
   "source": [
    "import re\n",
    "\n",
    "def clean_product_name(name):\n",
    "    return re.sub(r'[^A-Za-z0-9\\s\\-\\/]', '', name).strip()\n",
    "\n",
    "\n",
    "df['CleanProductName'] = df['ProductName'].apply(clean_product_name)\n"
   ]
  },
  {
   "cell_type": "code",
   "execution_count": 99,
   "metadata": {},
   "outputs": [],
   "source": [
    "product_types = [\n",
    "    'cooler', 'laptop', 'camera',\n",
    "    'tv', 'monitor', 'headphone', 'speaker', 'fridge', 'microwave', 'oven', 'air conditioner',\n",
    "    'washing machine', 'dryer', 'vacuum', 'blender', 'mixer', 'fan', 'heater', 'iron', 'juicer',\n",
    "    'toaster', 'coffee maker', 'remote', 'voltage stabilizer',\n",
    "    'bulb', 'cctv', 'Home theatre', 'chromecast' , \n",
    "    'TV Stick', 'Streaming device' ,'Top Load' ,'Geyser', 'Water Purifier', 'Grinder' ,'inverter', 'Macbook' \n",
    "]\n",
    "\n",
    "product_types = sorted(product_types, key=len, reverse=True)\n",
    "\n",
    "def extract_brand_and_product(name):\n",
    "    if not name or not isinstance(name, str):\n",
    "        return None, None\n",
    "    \n",
    "    words = name.split()\n",
    "    if not words:\n",
    "        return None, None\n",
    "\n",
    "    brand = words[0]  # Assuming the brand name is the first word\n",
    "    product = None\n",
    "    for product_type in product_types:\n",
    "        if product_type.lower() in ' '.join(words[1:]).lower():\n",
    "            product = product_type\n",
    "            break\n",
    "    return brand, product\n",
    "\n",
    "# Apply the function to the CleanedProductName column\n",
    "df[['Brand', 'ProductType']] = df['CleanProductName'].apply(lambda x: pd.Series(extract_brand_and_product(x)))\n"
   ]
  },
  {
   "cell_type": "code",
   "execution_count": 100,
   "metadata": {},
   "outputs": [
    {
     "name": "stdout",
     "output_type": "stream",
     "text": [
      "                                          ProductName     Price Rate  \\\n",
      "0   Candes 12 L Room/Personal Air Cooler?ÿ?ÿ(White...  ??3,999    5   \n",
      "1   Candes 12 L Room/Personal Air Cooler?ÿ?ÿ(White...  ??3,999    5   \n",
      "2   Candes 12 L Room/Personal Air Cooler?ÿ?ÿ(White...  ??3,999    3   \n",
      "3   Candes 12 L Room/Personal Air Cooler?ÿ?ÿ(White...  ??3,999    1   \n",
      "4   Candes 12 L Room/Personal Air Cooler?ÿ?ÿ(White...  ??3,999    3   \n",
      "..                                                ...       ...  ...   \n",
      "95  MAHARAJA WHITELINE 65 L Desert Air Cooler?ÿ?ÿ(...  ??7,999    5   \n",
      "96  MAHARAJA WHITELINE 65 L Desert Air Cooler?ÿ?ÿ(...  ??7,999    5   \n",
      "97  MAHARAJA WHITELINE 65 L Desert Air Cooler?ÿ?ÿ(...  ??7,999    5   \n",
      "98  MAHARAJA WHITELINE 65 L Desert Air Cooler?ÿ?ÿ(...  ??7,999    5   \n",
      "99  MAHARAJA WHITELINE 65 L Desert Air Cooler?ÿ?ÿ(...  ??7,999    1   \n",
      "\n",
      "                Review                                            Summary  \\\n",
      "0               Super!  Great cooler.. excellent air flow and for this...   \n",
      "1              Awesome             Best budget 2 fit cooler. Nice cooling   \n",
      "2                 Fair  The quality is good but the power of air is de...   \n",
      "3      Useless product                 Very bad product it's a only a fan   \n",
      "4                 Fair                                      Ok ok product   \n",
      "..                 ...                                                ...   \n",
      "95       Great product                                          Very good   \n",
      "96  Highly recommended               Good product delivery on time ?§?   \n",
      "97           Must buy!                       Nice product deliver in time   \n",
      "98   Terrific purchase  I honestly liked the product.Best desert coole...   \n",
      "99           Very poor  Don't buy this product.. Within 1.5 year wind ...   \n",
      "\n",
      "                                     CleanProductName     Brand ProductType  \n",
      "0   Candes 12 L Room/Personal Air CoolerWhite Blac...    Candes      cooler  \n",
      "1   Candes 12 L Room/Personal Air CoolerWhite Blac...    Candes      cooler  \n",
      "2   Candes 12 L Room/Personal Air CoolerWhite Blac...    Candes      cooler  \n",
      "3   Candes 12 L Room/Personal Air CoolerWhite Blac...    Candes      cooler  \n",
      "4   Candes 12 L Room/Personal Air CoolerWhite Blac...    Candes      cooler  \n",
      "..                                                ...       ...         ...  \n",
      "95  MAHARAJA WHITELINE 65 L Desert Air CoolerWhite...  MAHARAJA      cooler  \n",
      "96  MAHARAJA WHITELINE 65 L Desert Air CoolerWhite...  MAHARAJA      cooler  \n",
      "97  MAHARAJA WHITELINE 65 L Desert Air CoolerWhite...  MAHARAJA      cooler  \n",
      "98  MAHARAJA WHITELINE 65 L Desert Air CoolerWhite...  MAHARAJA      cooler  \n",
      "99  MAHARAJA WHITELINE 65 L Desert Air CoolerWhite...  MAHARAJA      cooler  \n",
      "\n",
      "[100 rows x 8 columns]\n"
     ]
    }
   ],
   "source": [
    "print(df.head(100))"
   ]
  },
  {
   "cell_type": "code",
   "execution_count": 101,
   "metadata": {},
   "outputs": [],
   "source": [
    "Electronics = pd.DataFrame(df)"
   ]
  },
  {
   "cell_type": "code",
   "execution_count": 102,
   "metadata": {},
   "outputs": [],
   "source": [
    "Electronics = Electronics.dropna(subset=['ProductType'])"
   ]
  },
  {
   "cell_type": "code",
   "execution_count": 103,
   "metadata": {},
   "outputs": [
    {
     "name": "stdout",
     "output_type": "stream",
     "text": [
      "                                          ProductName     Price Rate  \\\n",
      "0   Candes 12 L Room/Personal Air Cooler?ÿ?ÿ(White...  ??3,999    5   \n",
      "1   Candes 12 L Room/Personal Air Cooler?ÿ?ÿ(White...  ??3,999    5   \n",
      "2   Candes 12 L Room/Personal Air Cooler?ÿ?ÿ(White...  ??3,999    3   \n",
      "3   Candes 12 L Room/Personal Air Cooler?ÿ?ÿ(White...  ??3,999    1   \n",
      "4   Candes 12 L Room/Personal Air Cooler?ÿ?ÿ(White...  ??3,999    3   \n",
      "..                                                ...       ...  ...   \n",
      "95  MAHARAJA WHITELINE 65 L Desert Air Cooler?ÿ?ÿ(...  ??7,999    5   \n",
      "96  MAHARAJA WHITELINE 65 L Desert Air Cooler?ÿ?ÿ(...  ??7,999    5   \n",
      "97  MAHARAJA WHITELINE 65 L Desert Air Cooler?ÿ?ÿ(...  ??7,999    5   \n",
      "98  MAHARAJA WHITELINE 65 L Desert Air Cooler?ÿ?ÿ(...  ??7,999    5   \n",
      "99  MAHARAJA WHITELINE 65 L Desert Air Cooler?ÿ?ÿ(...  ??7,999    1   \n",
      "\n",
      "                Review                                            Summary  \\\n",
      "0               Super!  Great cooler.. excellent air flow and for this...   \n",
      "1              Awesome             Best budget 2 fit cooler. Nice cooling   \n",
      "2                 Fair  The quality is good but the power of air is de...   \n",
      "3      Useless product                 Very bad product it's a only a fan   \n",
      "4                 Fair                                      Ok ok product   \n",
      "..                 ...                                                ...   \n",
      "95       Great product                                          Very good   \n",
      "96  Highly recommended               Good product delivery on time ?§?   \n",
      "97           Must buy!                       Nice product deliver in time   \n",
      "98   Terrific purchase  I honestly liked the product.Best desert coole...   \n",
      "99           Very poor  Don't buy this product.. Within 1.5 year wind ...   \n",
      "\n",
      "                                     CleanProductName     Brand ProductType  \n",
      "0   Candes 12 L Room/Personal Air CoolerWhite Blac...    Candes      cooler  \n",
      "1   Candes 12 L Room/Personal Air CoolerWhite Blac...    Candes      cooler  \n",
      "2   Candes 12 L Room/Personal Air CoolerWhite Blac...    Candes      cooler  \n",
      "3   Candes 12 L Room/Personal Air CoolerWhite Blac...    Candes      cooler  \n",
      "4   Candes 12 L Room/Personal Air CoolerWhite Blac...    Candes      cooler  \n",
      "..                                                ...       ...         ...  \n",
      "95  MAHARAJA WHITELINE 65 L Desert Air CoolerWhite...  MAHARAJA      cooler  \n",
      "96  MAHARAJA WHITELINE 65 L Desert Air CoolerWhite...  MAHARAJA      cooler  \n",
      "97  MAHARAJA WHITELINE 65 L Desert Air CoolerWhite...  MAHARAJA      cooler  \n",
      "98  MAHARAJA WHITELINE 65 L Desert Air CoolerWhite...  MAHARAJA      cooler  \n",
      "99  MAHARAJA WHITELINE 65 L Desert Air CoolerWhite...  MAHARAJA      cooler  \n",
      "\n",
      "[100 rows x 8 columns]\n"
     ]
    }
   ],
   "source": [
    "print(Electronics.head(100))"
   ]
  },
  {
   "cell_type": "code",
   "execution_count": 104,
   "metadata": {},
   "outputs": [],
   "source": [
    "replace_dict = {'juicer': 'Grinder', \n",
    "                'chromecast' : 'Streaming device',\n",
    "                'TV Stick' : 'Streaming device',\n",
    "                'Top Load' :'washing machine' ,\n",
    "                'oven' : 'microwave',\n",
    "                'Macbook' : 'laptop'\n",
    "                }"
   ]
  },
  {
   "cell_type": "code",
   "execution_count": 105,
   "metadata": {},
   "outputs": [],
   "source": [
    "Electronics['ProductType']  = Electronics['ProductType'].replace(replace_dict, regex=True)"
   ]
  },
  {
   "cell_type": "code",
   "execution_count": 106,
   "metadata": {},
   "outputs": [
    {
     "name": "stdout",
     "output_type": "stream",
     "text": [
      "<class 'pandas.core.frame.DataFrame'>\n",
      "Index: 61516 entries, 0 to 187033\n",
      "Data columns (total 8 columns):\n",
      " #   Column            Non-Null Count  Dtype \n",
      "---  ------            --------------  ----- \n",
      " 0   ProductName       61516 non-null  object\n",
      " 1   Price             61516 non-null  object\n",
      " 2   Rate              61516 non-null  object\n",
      " 3   Review            61514 non-null  object\n",
      " 4   Summary           61516 non-null  object\n",
      " 5   CleanProductName  61516 non-null  object\n",
      " 6   Brand             61516 non-null  object\n",
      " 7   ProductType       61516 non-null  object\n",
      "dtypes: object(8)\n",
      "memory usage: 4.2+ MB\n"
     ]
    }
   ],
   "source": [
    "Electronics.info()"
   ]
  },
  {
   "cell_type": "code",
   "execution_count": 107,
   "metadata": {},
   "outputs": [],
   "source": [
    "def clean_price(price):\n",
    "    price = re.sub(r'[^0-9\\.]', '', price)\n",
    "    \n",
    "    return price\n",
    "\n",
    "Electronics['Price'] = Electronics['Price'].apply(clean_price)\n"
   ]
  },
  {
   "cell_type": "code",
   "execution_count": 108,
   "metadata": {},
   "outputs": [
    {
     "name": "stdout",
     "output_type": "stream",
     "text": [
      "                                              ProductName Price Rate  \\\n",
      "0       Candes 12 L Room/Personal Air Cooler?ÿ?ÿ(White...  3999    5   \n",
      "1       Candes 12 L Room/Personal Air Cooler?ÿ?ÿ(White...  3999    5   \n",
      "2       Candes 12 L Room/Personal Air Cooler?ÿ?ÿ(White...  3999    3   \n",
      "3       Candes 12 L Room/Personal Air Cooler?ÿ?ÿ(White...  3999    1   \n",
      "4       Candes 12 L Room/Personal Air Cooler?ÿ?ÿ(White...  3999    3   \n",
      "...                                                   ...   ...  ...   \n",
      "187029  Butterfly Rhino 2 Ltr Wet Grinder?ÿ?ÿ(Cherry Red)  4396    5   \n",
      "187030  Butterfly Rhino 2 Ltr Wet Grinder?ÿ?ÿ(Cherry Red)  4396    5   \n",
      "187031  Butterfly Rhino 2 Ltr Wet Grinder?ÿ?ÿ(Cherry Red)  4396    3   \n",
      "187032  Butterfly Rhino 2 Ltr Wet Grinder?ÿ?ÿ(Cherry Red)  4396    4   \n",
      "187033  Butterfly Rhino 2 Ltr Wet Grinder?ÿ?ÿ(Cherry Red)  4396    5   \n",
      "\n",
      "                       Review  \\\n",
      "0                      Super!   \n",
      "1                     Awesome   \n",
      "2                        Fair   \n",
      "3             Useless product   \n",
      "4                        Fair   \n",
      "...                       ...   \n",
      "187029    Best in the market!   \n",
      "187030  Mind-blowing purchase   \n",
      "187031           Does the job   \n",
      "187032        Worth the money   \n",
      "187033     Highly recommended   \n",
      "\n",
      "                                                  Summary  \\\n",
      "0       Great cooler.. excellent air flow and for this...   \n",
      "1                  Best budget 2 fit cooler. Nice cooling   \n",
      "2       The quality is good but the power of air is de...   \n",
      "3                      Very bad product it's a only a fan   \n",
      "4                                           Ok ok product   \n",
      "...                                                   ...   \n",
      "187029                                 Nice and good work   \n",
      "187030                                               Good   \n",
      "187031                                     Very nice ????   \n",
      "187032           Butterfly all items good working is good   \n",
      "187033                                               Good   \n",
      "\n",
      "                                         CleanProductName      Brand  \\\n",
      "0       Candes 12 L Room/Personal Air CoolerWhite Blac...     Candes   \n",
      "1       Candes 12 L Room/Personal Air CoolerWhite Blac...     Candes   \n",
      "2       Candes 12 L Room/Personal Air CoolerWhite Blac...     Candes   \n",
      "3       Candes 12 L Room/Personal Air CoolerWhite Blac...     Candes   \n",
      "4       Candes 12 L Room/Personal Air CoolerWhite Blac...     Candes   \n",
      "...                                                   ...        ...   \n",
      "187029        Butterfly Rhino 2 Ltr Wet GrinderCherry Red  Butterfly   \n",
      "187030        Butterfly Rhino 2 Ltr Wet GrinderCherry Red  Butterfly   \n",
      "187031        Butterfly Rhino 2 Ltr Wet GrinderCherry Red  Butterfly   \n",
      "187032        Butterfly Rhino 2 Ltr Wet GrinderCherry Red  Butterfly   \n",
      "187033        Butterfly Rhino 2 Ltr Wet GrinderCherry Red  Butterfly   \n",
      "\n",
      "       ProductType  \n",
      "0           cooler  \n",
      "1           cooler  \n",
      "2           cooler  \n",
      "3           cooler  \n",
      "4           cooler  \n",
      "...            ...  \n",
      "187029     Grinder  \n",
      "187030     Grinder  \n",
      "187031     Grinder  \n",
      "187032     Grinder  \n",
      "187033     Grinder  \n",
      "\n",
      "[61516 rows x 8 columns]\n"
     ]
    }
   ],
   "source": [
    "print(Electronics)"
   ]
  },
  {
   "cell_type": "code",
   "execution_count": 109,
   "metadata": {},
   "outputs": [
    {
     "name": "stdout",
     "output_type": "stream",
     "text": [
      "<class 'pandas.core.frame.DataFrame'>\n",
      "Index: 61516 entries, 0 to 187033\n",
      "Data columns (total 8 columns):\n",
      " #   Column            Non-Null Count  Dtype \n",
      "---  ------            --------------  ----- \n",
      " 0   ProductName       61516 non-null  object\n",
      " 1   Price             61516 non-null  object\n",
      " 2   Rate              61516 non-null  object\n",
      " 3   Review            61514 non-null  object\n",
      " 4   Summary           61516 non-null  object\n",
      " 5   CleanProductName  61516 non-null  object\n",
      " 6   Brand             61516 non-null  object\n",
      " 7   ProductType       61516 non-null  object\n",
      "dtypes: object(8)\n",
      "memory usage: 4.2+ MB\n"
     ]
    }
   ],
   "source": [
    "Electronics.info()"
   ]
  },
  {
   "cell_type": "code",
   "execution_count": 110,
   "metadata": {},
   "outputs": [],
   "source": [
    "Electronics['Brand']  = Electronics['Brand'].astype('category')\n",
    "Electronics['ProductType']  = Electronics['ProductType'].astype('category')"
   ]
  },
  {
   "cell_type": "code",
   "execution_count": 111,
   "metadata": {},
   "outputs": [],
   "source": [
    "Electronics['Price']  = Electronics['Price'].astype('int')\n"
   ]
  },
  {
   "cell_type": "code",
   "execution_count": 112,
   "metadata": {},
   "outputs": [],
   "source": [
    "Electronics['Rate']  = Electronics['Rate'].astype('category')\n"
   ]
  },
  {
   "cell_type": "code",
   "execution_count": 143,
   "metadata": {},
   "outputs": [
    {
     "data": {
      "text/plain": [
       "22"
      ]
     },
     "execution_count": 143,
     "metadata": {},
     "output_type": "execute_result"
    }
   ],
   "source": [
    "Electronics['ProductType'].nunique()"
   ]
  },
  {
   "cell_type": "code",
   "execution_count": 113,
   "metadata": {},
   "outputs": [
    {
     "data": {
      "text/html": [
       "<div>\n",
       "<style scoped>\n",
       "    .dataframe tbody tr th:only-of-type {\n",
       "        vertical-align: middle;\n",
       "    }\n",
       "\n",
       "    .dataframe tbody tr th {\n",
       "        vertical-align: top;\n",
       "    }\n",
       "\n",
       "    .dataframe thead th {\n",
       "        text-align: right;\n",
       "    }\n",
       "</style>\n",
       "<table border=\"1\" class=\"dataframe\">\n",
       "  <thead>\n",
       "    <tr style=\"text-align: right;\">\n",
       "      <th></th>\n",
       "      <th>ProductName</th>\n",
       "      <th>Price</th>\n",
       "      <th>Rate</th>\n",
       "      <th>Review</th>\n",
       "      <th>Summary</th>\n",
       "      <th>CleanProductName</th>\n",
       "      <th>Brand</th>\n",
       "      <th>ProductType</th>\n",
       "    </tr>\n",
       "  </thead>\n",
       "  <tbody>\n",
       "    <tr>\n",
       "      <th>179430</th>\n",
       "      <td>MOTOROLA 8 kg Smart Wi-Fi Enabled Inverter Tec...</td>\n",
       "      <td>16990</td>\n",
       "      <td>5</td>\n",
       "      <td>Highly recommended</td>\n",
       "      <td>All are good except flipkart delivery and inst...</td>\n",
       "      <td>MOTOROLA 8 kg Smart Wi-Fi Enabled Inverter Tec...</td>\n",
       "      <td>MOTOROLA</td>\n",
       "      <td>washing machine</td>\n",
       "    </tr>\n",
       "    <tr>\n",
       "      <th>182004</th>\n",
       "      <td>BAJAJ 15 L Storage Water Geyser (Popular Plus ...</td>\n",
       "      <td>5499</td>\n",
       "      <td>4</td>\n",
       "      <td>Delightful</td>\n",
       "      <td>Nice</td>\n",
       "      <td>BAJAJ 15 L Storage Water Geyser Popular Plus 1...</td>\n",
       "      <td>BAJAJ</td>\n",
       "      <td>Geyser</td>\n",
       "    </tr>\n",
       "    <tr>\n",
       "      <th>179865</th>\n",
       "      <td>MarQ by Flipkart 8 kg 5 Star Engineered with P...</td>\n",
       "      <td>14790</td>\n",
       "      <td>5</td>\n",
       "      <td>Highly recommended</td>\n",
       "      <td>Niceð</td>\n",
       "      <td>MarQ by Flipkart 8 kg 5 Star Engineered with P...</td>\n",
       "      <td>MarQ</td>\n",
       "      <td>washing machine</td>\n",
       "    </tr>\n",
       "    <tr>\n",
       "      <th>36936</th>\n",
       "      <td>BLUECHIP BL43SmartTV TV Voltage Stabilizer for...</td>\n",
       "      <td>1256</td>\n",
       "      <td>5</td>\n",
       "      <td>Fabulous!</td>\n",
       "      <td>Very good packaging and good product</td>\n",
       "      <td>BLUECHIP BL43SmartTV TV Voltage Stabilizer for...</td>\n",
       "      <td>BLUECHIP</td>\n",
       "      <td>voltage stabilizer</td>\n",
       "    </tr>\n",
       "    <tr>\n",
       "      <th>126364</th>\n",
       "      <td>Prestige Plus Atlas 750 W Juicer Mixer Grinder...</td>\n",
       "      <td>3249</td>\n",
       "      <td>5</td>\n",
       "      <td>Simply awesome</td>\n",
       "      <td>As per price it's too good</td>\n",
       "      <td>Prestige Plus Atlas 750 W Juicer Mixer Grinder...</td>\n",
       "      <td>Prestige</td>\n",
       "      <td>Grinder</td>\n",
       "    </tr>\n",
       "    <tr>\n",
       "      <th>164778</th>\n",
       "      <td>cello Pack of 18 Opalware Cello Dazzle Lush Fi...</td>\n",
       "      <td>1299</td>\n",
       "      <td>5</td>\n",
       "      <td>Terrific</td>\n",
       "      <td>Very goodâ¤ï¸</td>\n",
       "      <td>cello Pack of 18 Opalware Cello Dazzle Lush Fi...</td>\n",
       "      <td>cello</td>\n",
       "      <td>microwave</td>\n",
       "    </tr>\n",
       "    <tr>\n",
       "      <th>163536</th>\n",
       "      <td>cello Pack of 18 Opalware Cello Dazzle Lush Fi...</td>\n",
       "      <td>1299</td>\n",
       "      <td>4</td>\n",
       "      <td>Value-for-money</td>\n",
       "      <td>Very good product.. quality is very good.I lov...</td>\n",
       "      <td>cello Pack of 18 Opalware Cello Dazzle Lush Fi...</td>\n",
       "      <td>cello</td>\n",
       "      <td>microwave</td>\n",
       "    </tr>\n",
       "    <tr>\n",
       "      <th>102427</th>\n",
       "      <td>Furnifry Wooden Wall Mounted TV Stand/TV Enter...</td>\n",
       "      <td>2969</td>\n",
       "      <td>5</td>\n",
       "      <td>Worth every penny</td>\n",
       "      <td>Excellent</td>\n",
       "      <td>Furnifry Wooden Wall Mounted TV Stand/TV Enter...</td>\n",
       "      <td>Furnifry</td>\n",
       "      <td>tv</td>\n",
       "    </tr>\n",
       "    <tr>\n",
       "      <th>126762</th>\n",
       "      <td>Thomson Kitchen Master Pro+ MX03 750 W Juicer ...</td>\n",
       "      <td>2709</td>\n",
       "      <td>3</td>\n",
       "      <td>Just okay</td>\n",
       "      <td>Best mixer grinder but packing poor</td>\n",
       "      <td>Thomson Kitchen Master Pro MX03 750 W Juicer M...</td>\n",
       "      <td>Thomson</td>\n",
       "      <td>Grinder</td>\n",
       "    </tr>\n",
       "  </tbody>\n",
       "</table>\n",
       "</div>"
      ],
      "text/plain": [
       "                                              ProductName  Price Rate  \\\n",
       "179430  MOTOROLA 8 kg Smart Wi-Fi Enabled Inverter Tec...  16990    5   \n",
       "182004  BAJAJ 15 L Storage Water Geyser (Popular Plus ...   5499    4   \n",
       "179865  MarQ by Flipkart 8 kg 5 Star Engineered with P...  14790    5   \n",
       "36936   BLUECHIP BL43SmartTV TV Voltage Stabilizer for...   1256    5   \n",
       "126364  Prestige Plus Atlas 750 W Juicer Mixer Grinder...   3249    5   \n",
       "164778  cello Pack of 18 Opalware Cello Dazzle Lush Fi...   1299    5   \n",
       "163536  cello Pack of 18 Opalware Cello Dazzle Lush Fi...   1299    4   \n",
       "102427  Furnifry Wooden Wall Mounted TV Stand/TV Enter...   2969    5   \n",
       "126762  Thomson Kitchen Master Pro+ MX03 750 W Juicer ...   2709    3   \n",
       "\n",
       "                    Review                                            Summary  \\\n",
       "179430  Highly recommended  All are good except flipkart delivery and inst...   \n",
       "182004          Delightful                                               Nice   \n",
       "179865  Highly recommended                                           Niceð   \n",
       "36936            Fabulous!               Very good packaging and good product   \n",
       "126364      Simply awesome                         As per price it's too good   \n",
       "164778            Terrific                                    Very goodâ¤ï¸   \n",
       "163536     Value-for-money  Very good product.. quality is very good.I lov...   \n",
       "102427   Worth every penny                                          Excellent   \n",
       "126762           Just okay                Best mixer grinder but packing poor   \n",
       "\n",
       "                                         CleanProductName     Brand  \\\n",
       "179430  MOTOROLA 8 kg Smart Wi-Fi Enabled Inverter Tec...  MOTOROLA   \n",
       "182004  BAJAJ 15 L Storage Water Geyser Popular Plus 1...     BAJAJ   \n",
       "179865  MarQ by Flipkart 8 kg 5 Star Engineered with P...      MarQ   \n",
       "36936   BLUECHIP BL43SmartTV TV Voltage Stabilizer for...  BLUECHIP   \n",
       "126364  Prestige Plus Atlas 750 W Juicer Mixer Grinder...  Prestige   \n",
       "164778  cello Pack of 18 Opalware Cello Dazzle Lush Fi...     cello   \n",
       "163536  cello Pack of 18 Opalware Cello Dazzle Lush Fi...     cello   \n",
       "102427  Furnifry Wooden Wall Mounted TV Stand/TV Enter...  Furnifry   \n",
       "126762  Thomson Kitchen Master Pro MX03 750 W Juicer M...   Thomson   \n",
       "\n",
       "               ProductType  \n",
       "179430     washing machine  \n",
       "182004              Geyser  \n",
       "179865     washing machine  \n",
       "36936   voltage stabilizer  \n",
       "126364             Grinder  \n",
       "164778           microwave  \n",
       "163536           microwave  \n",
       "102427                  tv  \n",
       "126762             Grinder  "
      ]
     },
     "execution_count": 113,
     "metadata": {},
     "output_type": "execute_result"
    }
   ],
   "source": [
    "Electronics.sample(9)"
   ]
  },
  {
   "cell_type": "code",
   "execution_count": 114,
   "metadata": {},
   "outputs": [],
   "source": [
    "import nltk"
   ]
  },
  {
   "cell_type": "code",
   "execution_count": 115,
   "metadata": {},
   "outputs": [],
   "source": [
    "from vaderSentiment.vaderSentiment import SentimentIntensityAnalyzer\n",
    "\n",
    "obj = SentimentIntensityAnalyzer()"
   ]
  },
  {
   "cell_type": "code",
   "execution_count": 116,
   "metadata": {},
   "outputs": [
    {
     "name": "stdout",
     "output_type": "stream",
     "text": [
      "{'neg': 0.0, 'neu': 0.52, 'pos': 0.48, 'compound': 0.8516}\n"
     ]
    }
   ],
   "source": [
    "text = \"I love this product! It's amazing and has exceeded my expectations.\"\n",
    "sentiment_scores = obj.polarity_scores(text)\n",
    "print(sentiment_scores)\n",
    "\n",
    "#Result: {'neg': 0.0, 'neu': 0.52, 'pos': 0.48, 'compound': 0.8516}\n"
   ]
  },
  {
   "cell_type": "code",
   "execution_count": 117,
   "metadata": {},
   "outputs": [],
   "source": [
    "Electronics['Review'] = Electronics['Review'].astype(str)\n",
    "Electronics[\"Compound\"] = Electronics[\"Summary\"].apply(lambda x: obj.polarity_scores(x)[\"compound\"])\n"
   ]
  },
  {
   "cell_type": "code",
   "execution_count": 118,
   "metadata": {},
   "outputs": [
    {
     "name": "stdout",
     "output_type": "stream",
     "text": [
      "                                         ProductName  Price Rate  \\\n",
      "0  Candes 12 L Room/Personal Air Cooler?ÿ?ÿ(White...   3999    5   \n",
      "1  Candes 12 L Room/Personal Air Cooler?ÿ?ÿ(White...   3999    5   \n",
      "2  Candes 12 L Room/Personal Air Cooler?ÿ?ÿ(White...   3999    3   \n",
      "3  Candes 12 L Room/Personal Air Cooler?ÿ?ÿ(White...   3999    1   \n",
      "4  Candes 12 L Room/Personal Air Cooler?ÿ?ÿ(White...   3999    3   \n",
      "\n",
      "            Review                                            Summary  \\\n",
      "0           Super!  Great cooler.. excellent air flow and for this...   \n",
      "1          Awesome             Best budget 2 fit cooler. Nice cooling   \n",
      "2             Fair  The quality is good but the power of air is de...   \n",
      "3  Useless product                 Very bad product it's a only a fan   \n",
      "4             Fair                                      Ok ok product   \n",
      "\n",
      "                                    CleanProductName   Brand ProductType  \\\n",
      "0  Candes 12 L Room/Personal Air CoolerWhite Blac...  Candes      cooler   \n",
      "1  Candes 12 L Room/Personal Air CoolerWhite Blac...  Candes      cooler   \n",
      "2  Candes 12 L Room/Personal Air CoolerWhite Blac...  Candes      cooler   \n",
      "3  Candes 12 L Room/Personal Air CoolerWhite Blac...  Candes      cooler   \n",
      "4  Candes 12 L Room/Personal Air CoolerWhite Blac...  Candes      cooler   \n",
      "\n",
      "   Compound  \n",
      "0    0.9597  \n",
      "1    0.8591  \n",
      "2    0.2382  \n",
      "3   -0.3597  \n",
      "4    0.5267  \n"
     ]
    }
   ],
   "source": [
    "print(Electronics.head(5))\n"
   ]
  },
  {
   "cell_type": "code",
   "execution_count": 119,
   "metadata": {},
   "outputs": [
    {
     "name": "stdout",
     "output_type": "stream",
     "text": [
      "Dropped columns: ['ProductName', 'Review', 'CleanProductName']\n",
      "   Price Rate                                            Summary   Brand  \\\n",
      "0   3999    5  Great cooler.. excellent air flow and for this...  Candes   \n",
      "1   3999    5             Best budget 2 fit cooler. Nice cooling  Candes   \n",
      "2   3999    3  The quality is good but the power of air is de...  Candes   \n",
      "3   3999    1                 Very bad product it's a only a fan  Candes   \n",
      "4   3999    3                                      Ok ok product  Candes   \n",
      "\n",
      "  ProductType  Compound  \n",
      "0      cooler    0.9597  \n",
      "1      cooler    0.8591  \n",
      "2      cooler    0.2382  \n",
      "3      cooler   -0.3597  \n",
      "4      cooler    0.5267  \n"
     ]
    }
   ],
   "source": [
    "# Specify the columns you want to drop\n",
    "cols_to_drop = [\"ProductName\", \"Review\", \"CleanProductName\"]\n",
    "\n",
    "# Check if the columns exist and then drop them\n",
    "existing_cols_to_drop = [col for col in cols_to_drop if col in Electronics.columns]\n",
    "\n",
    "if existing_cols_to_drop:\n",
    "    Electronics.drop(columns=existing_cols_to_drop, inplace=True)\n",
    "    print(f\"Dropped columns: {existing_cols_to_drop}\")\n",
    "else:\n",
    "    print(\"No columns to drop found in the DataFrame.\")\n",
    "\n",
    "print(Electronics.head())\n"
   ]
  },
  {
   "cell_type": "code",
   "execution_count": 120,
   "metadata": {},
   "outputs": [],
   "source": [
    "Electronics = Electronics.rename(columns={'Compound' : 'Affinity'})"
   ]
  },
  {
   "cell_type": "code",
   "execution_count": 121,
   "metadata": {},
   "outputs": [
    {
     "name": "stdout",
     "output_type": "stream",
     "text": [
      "<class 'pandas.core.frame.DataFrame'>\n",
      "Index: 61516 entries, 0 to 187033\n",
      "Data columns (total 6 columns):\n",
      " #   Column       Non-Null Count  Dtype   \n",
      "---  ------       --------------  -----   \n",
      " 0   Price        61516 non-null  int64   \n",
      " 1   Rate         61516 non-null  category\n",
      " 2   Summary      61516 non-null  object  \n",
      " 3   Brand        61516 non-null  category\n",
      " 4   ProductType  61516 non-null  category\n",
      " 5   Affinity     61516 non-null  float64 \n",
      "dtypes: category(3), float64(1), int64(1), object(1)\n",
      "memory usage: 2.1+ MB\n"
     ]
    }
   ],
   "source": [
    "Electronics.info()"
   ]
  },
  {
   "cell_type": "code",
   "execution_count": 122,
   "metadata": {},
   "outputs": [],
   "source": [
    "drop_cols = [\"Rate\", \"Summary\"]\n",
    "Elect = Electronics.drop(columns=drop_cols)"
   ]
  },
  {
   "cell_type": "code",
   "execution_count": 123,
   "metadata": {},
   "outputs": [
    {
     "name": "stderr",
     "output_type": "stream",
     "text": [
      "/var/folders/sy/r49glz6958l7lh1w01w956wh0000gn/T/ipykernel_2084/2229234217.py:1: FutureWarning: The default of observed=False is deprecated and will be changed to True in a future version of pandas. Pass observed=False to retain current behavior or observed=True to adopt the future default and silence this warning.\n",
      "  levls = Elect.groupby('Brand')['Affinity'].mean()\n"
     ]
    }
   ],
   "source": [
    "levls = Elect.groupby('Brand')['Affinity'].mean()\n"
   ]
  },
  {
   "cell_type": "code",
   "execution_count": 124,
   "metadata": {},
   "outputs": [
    {
     "data": {
      "text/plain": [
       "Index(['Price', 'Brand', 'ProductType', 'Affinity'], dtype='object')"
      ]
     },
     "execution_count": 124,
     "metadata": {},
     "output_type": "execute_result"
    }
   ],
   "source": [
    "Elect.columns"
   ]
  },
  {
   "cell_type": "code",
   "execution_count": 125,
   "metadata": {},
   "outputs": [],
   "source": [
    "levls = pd.merge(levls, Elect[['Brand', 'ProductType']], on='Brand', how='left')\n",
    "levls = levls.drop_duplicates('Brand')"
   ]
  },
  {
   "cell_type": "code",
   "execution_count": 126,
   "metadata": {},
   "outputs": [
    {
     "name": "stdout",
     "output_type": "stream",
     "text": [
      "          Brand  Affinity       ProductType\n",
      "0            3D  0.395991           Grinder\n",
      "128      7SEVEN  0.419563            remote\n",
      "144       AGARO  0.441166           Grinder\n",
      "1961    ANTIOUE  0.131032  Streaming device\n",
      "2071   ANTRONIC  0.401251            heater\n",
      "...         ...       ...               ...\n",
      "60644    icrush  0.430655                tv\n",
      "60655   lectose  0.195409            laptop\n",
      "60701        mi  0.417827            heater\n",
      "60921    realme  0.265892  Streaming device\n",
      "61416  tHemiStO  0.442594              iron\n",
      "\n",
      "[123 rows x 3 columns]\n"
     ]
    }
   ],
   "source": [
    "print(levls)"
   ]
  },
  {
   "cell_type": "code",
   "execution_count": 127,
   "metadata": {},
   "outputs": [
    {
     "name": "stderr",
     "output_type": "stream",
     "text": [
      "/var/folders/sy/r49glz6958l7lh1w01w956wh0000gn/T/ipykernel_2084/3511414873.py:1: FutureWarning: The default of observed=False is deprecated and will be changed to True in a future version of pandas. Pass observed=False to retain current behavior or observed=True to adopt the future default and silence this warning.\n",
      "  product_stats = Elect.groupby('ProductType')['Price'].agg(['mean', 'std'])\n"
     ]
    }
   ],
   "source": [
    "product_stats = Elect.groupby('ProductType')['Price'].agg(['mean', 'std'])\n",
    "\n",
    "Elect['avg_price'] = Elect['ProductType'].map(product_stats['mean'])\n",
    "Elect['price_std'] = Elect['ProductType'].map(product_stats['std'])\n"
   ]
  },
  {
   "cell_type": "code",
   "execution_count": 128,
   "metadata": {},
   "outputs": [],
   "source": [
    "Elect['price_category'] = Elect.apply(lambda row: \n",
    "                                  'price-sensitive' if row['Price'] < row['avg_price'] - row['price_std'] else\n",
    "                                  'premium' if row['Price'] > row['avg_price'] + row['price_std'] else\n",
    "                                  'mid-range', axis=1)\n"
   ]
  },
  {
   "cell_type": "code",
   "execution_count": 129,
   "metadata": {},
   "outputs": [],
   "source": [
    "E2 = Elect.copy()"
   ]
  },
  {
   "cell_type": "code",
   "execution_count": 130,
   "metadata": {},
   "outputs": [
    {
     "data": {
      "text/html": [
       "<div>\n",
       "<style scoped>\n",
       "    .dataframe tbody tr th:only-of-type {\n",
       "        vertical-align: middle;\n",
       "    }\n",
       "\n",
       "    .dataframe tbody tr th {\n",
       "        vertical-align: top;\n",
       "    }\n",
       "\n",
       "    .dataframe thead th {\n",
       "        text-align: right;\n",
       "    }\n",
       "</style>\n",
       "<table border=\"1\" class=\"dataframe\">\n",
       "  <thead>\n",
       "    <tr style=\"text-align: right;\">\n",
       "      <th></th>\n",
       "      <th>Price</th>\n",
       "      <th>Brand</th>\n",
       "      <th>ProductType</th>\n",
       "      <th>Affinity</th>\n",
       "      <th>avg_price</th>\n",
       "      <th>price_std</th>\n",
       "      <th>price_category</th>\n",
       "    </tr>\n",
       "  </thead>\n",
       "  <tbody>\n",
       "    <tr>\n",
       "      <th>82661</th>\n",
       "      <td>529</td>\n",
       "      <td>Bajaj</td>\n",
       "      <td>iron</td>\n",
       "      <td>0.5940</td>\n",
       "      <td>514.009932</td>\n",
       "      <td>1897.667324</td>\n",
       "      <td>mid-range</td>\n",
       "    </tr>\n",
       "    <tr>\n",
       "      <th>101136</th>\n",
       "      <td>1804</td>\n",
       "      <td>ERAWUD</td>\n",
       "      <td>tv</td>\n",
       "      <td>0.6369</td>\n",
       "      <td>8942.276195</td>\n",
       "      <td>4805.467017</td>\n",
       "      <td>price-sensitive</td>\n",
       "    </tr>\n",
       "    <tr>\n",
       "      <th>145090</th>\n",
       "      <td>945</td>\n",
       "      <td>Dallao</td>\n",
       "      <td>remote</td>\n",
       "      <td>0.4404</td>\n",
       "      <td>903.046012</td>\n",
       "      <td>1046.422497</td>\n",
       "      <td>mid-range</td>\n",
       "    </tr>\n",
       "    <tr>\n",
       "      <th>145405</th>\n",
       "      <td>980</td>\n",
       "      <td>Dallao</td>\n",
       "      <td>remote</td>\n",
       "      <td>-0.6808</td>\n",
       "      <td>903.046012</td>\n",
       "      <td>1046.422497</td>\n",
       "      <td>mid-range</td>\n",
       "    </tr>\n",
       "    <tr>\n",
       "      <th>152838</th>\n",
       "      <td>2990</td>\n",
       "      <td>Qubo</td>\n",
       "      <td>camera</td>\n",
       "      <td>0.5719</td>\n",
       "      <td>26636.012015</td>\n",
       "      <td>10215.574957</td>\n",
       "      <td>price-sensitive</td>\n",
       "    </tr>\n",
       "    <tr>\n",
       "      <th>137632</th>\n",
       "      <td>2499</td>\n",
       "      <td>MarQ</td>\n",
       "      <td>toaster</td>\n",
       "      <td>0.0000</td>\n",
       "      <td>2655.478239</td>\n",
       "      <td>396.287581</td>\n",
       "      <td>mid-range</td>\n",
       "    </tr>\n",
       "  </tbody>\n",
       "</table>\n",
       "</div>"
      ],
      "text/plain": [
       "        Price   Brand ProductType  Affinity     avg_price     price_std  \\\n",
       "82661     529   Bajaj        iron    0.5940    514.009932   1897.667324   \n",
       "101136   1804  ERAWUD          tv    0.6369   8942.276195   4805.467017   \n",
       "145090    945  Dallao      remote    0.4404    903.046012   1046.422497   \n",
       "145405    980  Dallao      remote   -0.6808    903.046012   1046.422497   \n",
       "152838   2990    Qubo      camera    0.5719  26636.012015  10215.574957   \n",
       "137632   2499    MarQ     toaster    0.0000   2655.478239    396.287581   \n",
       "\n",
       "         price_category  \n",
       "82661         mid-range  \n",
       "101136  price-sensitive  \n",
       "145090        mid-range  \n",
       "145405        mid-range  \n",
       "152838  price-sensitive  \n",
       "137632        mid-range  "
      ]
     },
     "execution_count": 130,
     "metadata": {},
     "output_type": "execute_result"
    }
   ],
   "source": [
    "E2.sample(6)"
   ]
  },
  {
   "cell_type": "code",
   "execution_count": 131,
   "metadata": {},
   "outputs": [
    {
     "data": {
      "text/html": [
       "<div>\n",
       "<style scoped>\n",
       "    .dataframe tbody tr th:only-of-type {\n",
       "        vertical-align: middle;\n",
       "    }\n",
       "\n",
       "    .dataframe tbody tr th {\n",
       "        vertical-align: top;\n",
       "    }\n",
       "\n",
       "    .dataframe thead th {\n",
       "        text-align: right;\n",
       "    }\n",
       "</style>\n",
       "<table border=\"1\" class=\"dataframe\">\n",
       "  <thead>\n",
       "    <tr style=\"text-align: right;\">\n",
       "      <th></th>\n",
       "      <th>Brand</th>\n",
       "      <th>Affinity</th>\n",
       "      <th>ProductType</th>\n",
       "    </tr>\n",
       "  </thead>\n",
       "  <tbody>\n",
       "    <tr>\n",
       "      <th>16951</th>\n",
       "      <td>Catvision</td>\n",
       "      <td>0.289596</td>\n",
       "      <td>Streaming device</td>\n",
       "    </tr>\n",
       "    <tr>\n",
       "      <th>51374</th>\n",
       "      <td>XAMILE</td>\n",
       "      <td>0.425390</td>\n",
       "      <td>remote</td>\n",
       "    </tr>\n",
       "    <tr>\n",
       "      <th>41299</th>\n",
       "      <td>Nova</td>\n",
       "      <td>0.764567</td>\n",
       "      <td>iron</td>\n",
       "    </tr>\n",
       "    <tr>\n",
       "      <th>46915</th>\n",
       "      <td>Rock</td>\n",
       "      <td>-0.007365</td>\n",
       "      <td>remote</td>\n",
       "    </tr>\n",
       "    <tr>\n",
       "      <th>48080</th>\n",
       "      <td>TXOR</td>\n",
       "      <td>0.032354</td>\n",
       "      <td>monitor</td>\n",
       "    </tr>\n",
       "    <tr>\n",
       "      <th>19319</th>\n",
       "      <td>CuteKitchen</td>\n",
       "      <td>0.323343</td>\n",
       "      <td>tv</td>\n",
       "    </tr>\n",
       "  </tbody>\n",
       "</table>\n",
       "</div>"
      ],
      "text/plain": [
       "             Brand  Affinity       ProductType\n",
       "16951    Catvision  0.289596  Streaming device\n",
       "51374       XAMILE  0.425390            remote\n",
       "41299         Nova  0.764567              iron\n",
       "46915         Rock -0.007365            remote\n",
       "48080         TXOR  0.032354           monitor\n",
       "19319  CuteKitchen  0.323343                tv"
      ]
     },
     "execution_count": 131,
     "metadata": {},
     "output_type": "execute_result"
    }
   ],
   "source": [
    "levls.sample(6)"
   ]
  },
  {
   "cell_type": "code",
   "execution_count": 132,
   "metadata": {},
   "outputs": [],
   "source": [
    "from sklearn.ensemble import RandomForestRegressor\n",
    "from sklearn.model_selection import train_test_split\n",
    "from sklearn.metrics import r2_score\n",
    "from sklearn.preprocessing import LabelEncoder\n",
    "from sklearn.metrics import mean_squared_error\n",
    "import matplotlib.pyplot as plt\n",
    "\n"
   ]
  },
  {
   "cell_type": "code",
   "execution_count": 133,
   "metadata": {},
   "outputs": [],
   "source": [
    "label_encoder = LabelEncoder()\n",
    "Elect['Brand'] = label_encoder.fit_transform(Elect['Brand'])\n",
    "Elect['ProductType'] = label_encoder.fit_transform(Elect['ProductType'])\n",
    "Elect['price_category'] = label_encoder.fit_transform(Elect['price_category'])"
   ]
  },
  {
   "cell_type": "code",
   "execution_count": 134,
   "metadata": {},
   "outputs": [],
   "source": [
    "X = Elect[['Brand', 'ProductType','price_category']]\n",
    "y = Elect['Affinity']\n"
   ]
  },
  {
   "cell_type": "code",
   "execution_count": 135,
   "metadata": {},
   "outputs": [],
   "source": [
    "X_adj = Elect[['Brand', 'ProductType', 'price_category']]\n"
   ]
  },
  {
   "cell_type": "code",
   "execution_count": 136,
   "metadata": {},
   "outputs": [],
   "source": [
    "X_train_adj, X_test_adj, y_train_adj, y_test_adj = train_test_split(X_adj, y, test_size=0.2, random_state=42)\n"
   ]
  },
  {
   "cell_type": "code",
   "execution_count": 137,
   "metadata": {},
   "outputs": [
    {
     "name": "stdout",
     "output_type": "stream",
     "text": [
      "Mean Squared Error: 0.15369775903459437\n"
     ]
    },
    {
     "data": {
      "image/png": "[encoded data removed]",
      "text/plain": [
       "<Figure size 1000x600 with 1 Axes>"
      ]
     },
     "metadata": {},
     "output_type": "display_data"
    }
   ],
   "source": [
    "model_adj = RandomForestRegressor(n_estimators=100, random_state=42)\n",
    "model_adj.fit(X_train_adj, y_train_adj)\n",
    "y_pred_adj = model_adj.predict(X_test_adj)\n",
    "mse_adj = mean_squared_error(y_test_adj, y_pred_adj)\n",
    "print(f\"Mean Squared Error: {mse_adj}\")\n",
    "\n",
    "feature_importances_adj = model_adj.feature_importances_\n",
    "features_adj = X_adj.columns\n",
    "\n",
    "plt.figure(figsize=(10, 6))\n",
    "plt.barh(features_adj, feature_importances_adj, color='skyblue')\n",
    "plt.xlabel('Impact on User Affinity')\n",
    "plt.ylabel('Feature')\n",
    "plt.title('Feature Importance in Random Forest Model')\n",
    "plt.show()"
   ]
  },
  {
   "cell_type": "code",
   "execution_count": 138,
   "metadata": {},
   "outputs": [
    {
     "name": "stderr",
     "output_type": "stream",
     "text": [
      "/var/folders/sy/r49glz6958l7lh1w01w956wh0000gn/T/ipykernel_2084/3678679649.py:1: FutureWarning: The default of observed=False is deprecated and will be changed to True in a future version of pandas. Pass observed=False to retain current behavior or observed=True to adopt the future default and silence this warning.\n",
      "  high_affin = E2.groupby('ProductType')['Affinity'].mean().reset_index()\n"
     ]
    }
   ],
   "source": [
    "high_affin = E2.groupby('ProductType')['Affinity'].mean().reset_index()"
   ]
  },
  {
   "cell_type": "code",
   "execution_count": 139,
   "metadata": {},
   "outputs": [],
   "source": [
    "high_affin = high_affin.sort_values('Affinity', ascending=False).head(10)\n"
   ]
  },
  {
   "cell_type": "code",
   "execution_count": 140,
   "metadata": {},
   "outputs": [
    {
     "name": "stdout",
     "output_type": "stream",
     "text": [
      "           ProductType  Affinity\n",
      "12              laptop  0.459892\n",
      "17             toaster  0.454028\n",
      "6               camera  0.445401\n",
      "13           microwave  0.427963\n",
      "18                  tv  0.424964\n",
      "11                iron  0.415083\n",
      "20  voltage stabilizer  0.414531\n",
      "4       Water Purifier  0.406606\n",
      "19              vacuum  0.404470\n",
      "7               cooler  0.396691\n"
     ]
    }
   ],
   "source": [
    "print(high_affin)"
   ]
  },
  {
   "cell_type": "code",
   "execution_count": 141,
   "metadata": {},
   "outputs": [
    {
     "ename": "ValueError",
     "evalue": "Could not interpret value `Normalized_Affinity` for `y`. An entry with this name does not appear in `data`.",
     "output_type": "error",
     "traceback": [
      "\u001b[0;31m---------------------------------------------------------------------------\u001b[0m",
      "\u001b[0;31mValueError\u001b[0m                                Traceback (most recent call last)",
      "Cell \u001b[0;32mIn[141], line 4\u001b[0m\n\u001b[1;32m      1\u001b[0m plt\u001b[38;5;241m.\u001b[39mfigure(figsize\u001b[38;5;241m=\u001b[39m(\u001b[38;5;241m12\u001b[39m, \u001b[38;5;241m6\u001b[39m))\n\u001b[1;32m      3\u001b[0m \u001b[38;5;66;03m# Bar plot\u001b[39;00m\n\u001b[0;32m----> 4\u001b[0m bar_plot \u001b[38;5;241m=\u001b[39m \u001b[43msns\u001b[49m\u001b[38;5;241;43m.\u001b[39;49m\u001b[43mbarplot\u001b[49m\u001b[43m(\u001b[49m\u001b[43mx\u001b[49m\u001b[38;5;241;43m=\u001b[39;49m\u001b[38;5;124;43m\"\u001b[39;49m\u001b[38;5;124;43mProductType\u001b[39;49m\u001b[38;5;124;43m\"\u001b[39;49m\u001b[43m,\u001b[49m\u001b[43m \u001b[49m\u001b[43my\u001b[49m\u001b[38;5;241;43m=\u001b[39;49m\u001b[38;5;124;43m\"\u001b[39;49m\u001b[38;5;124;43mNormalized_Affinity\u001b[39;49m\u001b[38;5;124;43m\"\u001b[39;49m\u001b[43m,\u001b[49m\u001b[43m \u001b[49m\u001b[43mdata\u001b[49m\u001b[38;5;241;43m=\u001b[39;49m\u001b[43mdf\u001b[49m\u001b[43m,\u001b[49m\u001b[43m \u001b[49m\u001b[43mpalette\u001b[49m\u001b[38;5;241;43m=\u001b[39;49m\u001b[38;5;124;43m\"\u001b[39;49m\u001b[38;5;124;43mmuted\u001b[39;49m\u001b[38;5;124;43m\"\u001b[39;49m\u001b[43m,\u001b[49m\u001b[43m \u001b[49m\u001b[43malpha\u001b[49m\u001b[38;5;241;43m=\u001b[39;49m\u001b[38;5;241;43m0.7\u001b[39;49m\u001b[43m)\u001b[49m\n\u001b[1;32m      5\u001b[0m plt\u001b[38;5;241m.\u001b[39mxticks(rotation\u001b[38;5;241m=\u001b[39m\u001b[38;5;241m45\u001b[39m)\n\u001b[1;32m      6\u001b[0m plt\u001b[38;5;241m.\u001b[39mxlabel(\u001b[38;5;124m'\u001b[39m\u001b[38;5;124mProduct Type\u001b[39m\u001b[38;5;124m'\u001b[39m)\n",
      "File \u001b[0;32m~/py/pyt/lib/python3.12/site-packages/seaborn/categorical.py:2341\u001b[0m, in \u001b[0;36mbarplot\u001b[0;34m(data, x, y, hue, order, hue_order, estimator, errorbar, n_boot, seed, units, weights, orient, color, palette, saturation, fill, hue_norm, width, dodge, gap, log_scale, native_scale, formatter, legend, capsize, err_kws, ci, errcolor, errwidth, ax, **kwargs)\u001b[0m\n\u001b[1;32m   2338\u001b[0m \u001b[38;5;28;01mif\u001b[39;00m estimator \u001b[38;5;129;01mis\u001b[39;00m \u001b[38;5;28mlen\u001b[39m:\n\u001b[1;32m   2339\u001b[0m     estimator \u001b[38;5;241m=\u001b[39m \u001b[38;5;124m\"\u001b[39m\u001b[38;5;124msize\u001b[39m\u001b[38;5;124m\"\u001b[39m\n\u001b[0;32m-> 2341\u001b[0m p \u001b[38;5;241m=\u001b[39m \u001b[43m_CategoricalAggPlotter\u001b[49m\u001b[43m(\u001b[49m\n\u001b[1;32m   2342\u001b[0m \u001b[43m    \u001b[49m\u001b[43mdata\u001b[49m\u001b[38;5;241;43m=\u001b[39;49m\u001b[43mdata\u001b[49m\u001b[43m,\u001b[49m\n\u001b[1;32m   2343\u001b[0m \u001b[43m    \u001b[49m\u001b[43mvariables\u001b[49m\u001b[38;5;241;43m=\u001b[39;49m\u001b[38;5;28;43mdict\u001b[39;49m\u001b[43m(\u001b[49m\u001b[43mx\u001b[49m\u001b[38;5;241;43m=\u001b[39;49m\u001b[43mx\u001b[49m\u001b[43m,\u001b[49m\u001b[43m \u001b[49m\u001b[43my\u001b[49m\u001b[38;5;241;43m=\u001b[39;49m\u001b[43my\u001b[49m\u001b[43m,\u001b[49m\u001b[43m \u001b[49m\u001b[43mhue\u001b[49m\u001b[38;5;241;43m=\u001b[39;49m\u001b[43mhue\u001b[49m\u001b[43m,\u001b[49m\u001b[43m \u001b[49m\u001b[43munits\u001b[49m\u001b[38;5;241;43m=\u001b[39;49m\u001b[43munits\u001b[49m\u001b[43m,\u001b[49m\u001b[43m \u001b[49m\u001b[43mweight\u001b[49m\u001b[38;5;241;43m=\u001b[39;49m\u001b[43mweights\u001b[49m\u001b[43m)\u001b[49m\u001b[43m,\u001b[49m\n\u001b[1;32m   2344\u001b[0m \u001b[43m    \u001b[49m\u001b[43morder\u001b[49m\u001b[38;5;241;43m=\u001b[39;49m\u001b[43morder\u001b[49m\u001b[43m,\u001b[49m\n\u001b[1;32m   2345\u001b[0m \u001b[43m    \u001b[49m\u001b[43morient\u001b[49m\u001b[38;5;241;43m=\u001b[39;49m\u001b[43morient\u001b[49m\u001b[43m,\u001b[49m\n\u001b[1;32m   2346\u001b[0m \u001b[43m    \u001b[49m\u001b[43mcolor\u001b[49m\u001b[38;5;241;43m=\u001b[39;49m\u001b[43mcolor\u001b[49m\u001b[43m,\u001b[49m\n\u001b[1;32m   2347\u001b[0m \u001b[43m    \u001b[49m\u001b[43mlegend\u001b[49m\u001b[38;5;241;43m=\u001b[39;49m\u001b[43mlegend\u001b[49m\u001b[43m,\u001b[49m\n\u001b[1;32m   2348\u001b[0m \u001b[43m\u001b[49m\u001b[43m)\u001b[49m\n\u001b[1;32m   2350\u001b[0m \u001b[38;5;28;01mif\u001b[39;00m ax \u001b[38;5;129;01mis\u001b[39;00m \u001b[38;5;28;01mNone\u001b[39;00m:\n\u001b[1;32m   2351\u001b[0m     ax \u001b[38;5;241m=\u001b[39m plt\u001b[38;5;241m.\u001b[39mgca()\n",
      "File \u001b[0;32m~/py/pyt/lib/python3.12/site-packages/seaborn/categorical.py:67\u001b[0m, in \u001b[0;36m_CategoricalPlotter.__init__\u001b[0;34m(self, data, variables, order, orient, require_numeric, color, legend)\u001b[0m\n\u001b[1;32m     56\u001b[0m \u001b[38;5;28;01mdef\u001b[39;00m \u001b[38;5;21m__init__\u001b[39m(\n\u001b[1;32m     57\u001b[0m     \u001b[38;5;28mself\u001b[39m,\n\u001b[1;32m     58\u001b[0m     data\u001b[38;5;241m=\u001b[39m\u001b[38;5;28;01mNone\u001b[39;00m,\n\u001b[0;32m   (...)\u001b[0m\n\u001b[1;32m     64\u001b[0m     legend\u001b[38;5;241m=\u001b[39m\u001b[38;5;124m\"\u001b[39m\u001b[38;5;124mauto\u001b[39m\u001b[38;5;124m\"\u001b[39m,\n\u001b[1;32m     65\u001b[0m ):\n\u001b[0;32m---> 67\u001b[0m     \u001b[38;5;28;43msuper\u001b[39;49m\u001b[43m(\u001b[49m\u001b[43m)\u001b[49m\u001b[38;5;241;43m.\u001b[39;49m\u001b[38;5;21;43m__init__\u001b[39;49m\u001b[43m(\u001b[49m\u001b[43mdata\u001b[49m\u001b[38;5;241;43m=\u001b[39;49m\u001b[43mdata\u001b[49m\u001b[43m,\u001b[49m\u001b[43m \u001b[49m\u001b[43mvariables\u001b[49m\u001b[38;5;241;43m=\u001b[39;49m\u001b[43mvariables\u001b[49m\u001b[43m)\u001b[49m\n\u001b[1;32m     69\u001b[0m     \u001b[38;5;66;03m# This method takes care of some bookkeeping that is necessary because the\u001b[39;00m\n\u001b[1;32m     70\u001b[0m     \u001b[38;5;66;03m# original categorical plots (prior to the 2021 refactor) had some rules that\u001b[39;00m\n\u001b[1;32m     71\u001b[0m     \u001b[38;5;66;03m# don't fit exactly into VectorPlotter logic. It may be wise to have a second\u001b[39;00m\n\u001b[0;32m   (...)\u001b[0m\n\u001b[1;32m     76\u001b[0m     \u001b[38;5;66;03m# default VectorPlotter rules. If we do decide to make orient part of the\u001b[39;00m\n\u001b[1;32m     77\u001b[0m     \u001b[38;5;66;03m# _base variable assignment, we'll want to figure out how to express that.\u001b[39;00m\n\u001b[1;32m     78\u001b[0m     \u001b[38;5;28;01mif\u001b[39;00m \u001b[38;5;28mself\u001b[39m\u001b[38;5;241m.\u001b[39minput_format \u001b[38;5;241m==\u001b[39m \u001b[38;5;124m\"\u001b[39m\u001b[38;5;124mwide\u001b[39m\u001b[38;5;124m\"\u001b[39m \u001b[38;5;129;01mand\u001b[39;00m orient \u001b[38;5;129;01min\u001b[39;00m [\u001b[38;5;124m\"\u001b[39m\u001b[38;5;124mh\u001b[39m\u001b[38;5;124m\"\u001b[39m, \u001b[38;5;124m\"\u001b[39m\u001b[38;5;124my\u001b[39m\u001b[38;5;124m\"\u001b[39m]:\n",
      "File \u001b[0;32m~/py/pyt/lib/python3.12/site-packages/seaborn/_base.py:634\u001b[0m, in \u001b[0;36mVectorPlotter.__init__\u001b[0;34m(self, data, variables)\u001b[0m\n\u001b[1;32m    629\u001b[0m \u001b[38;5;66;03m# var_ordered is relevant only for categorical axis variables, and may\u001b[39;00m\n\u001b[1;32m    630\u001b[0m \u001b[38;5;66;03m# be better handled by an internal axis information object that tracks\u001b[39;00m\n\u001b[1;32m    631\u001b[0m \u001b[38;5;66;03m# such information and is set up by the scale_* methods. The analogous\u001b[39;00m\n\u001b[1;32m    632\u001b[0m \u001b[38;5;66;03m# information for numeric axes would be information about log scales.\u001b[39;00m\n\u001b[1;32m    633\u001b[0m \u001b[38;5;28mself\u001b[39m\u001b[38;5;241m.\u001b[39m_var_ordered \u001b[38;5;241m=\u001b[39m {\u001b[38;5;124m\"\u001b[39m\u001b[38;5;124mx\u001b[39m\u001b[38;5;124m\"\u001b[39m: \u001b[38;5;28;01mFalse\u001b[39;00m, \u001b[38;5;124m\"\u001b[39m\u001b[38;5;124my\u001b[39m\u001b[38;5;124m\"\u001b[39m: \u001b[38;5;28;01mFalse\u001b[39;00m}  \u001b[38;5;66;03m# alt., used DefaultDict\u001b[39;00m\n\u001b[0;32m--> 634\u001b[0m \u001b[38;5;28;43mself\u001b[39;49m\u001b[38;5;241;43m.\u001b[39;49m\u001b[43massign_variables\u001b[49m\u001b[43m(\u001b[49m\u001b[43mdata\u001b[49m\u001b[43m,\u001b[49m\u001b[43m \u001b[49m\u001b[43mvariables\u001b[49m\u001b[43m)\u001b[49m\n\u001b[1;32m    636\u001b[0m \u001b[38;5;66;03m# TODO Lots of tests assume that these are called to initialize the\u001b[39;00m\n\u001b[1;32m    637\u001b[0m \u001b[38;5;66;03m# mappings to default values on class initialization. I'd prefer to\u001b[39;00m\n\u001b[1;32m    638\u001b[0m \u001b[38;5;66;03m# move away from that and only have a mapping when explicitly called.\u001b[39;00m\n\u001b[1;32m    639\u001b[0m \u001b[38;5;28;01mfor\u001b[39;00m var \u001b[38;5;129;01min\u001b[39;00m [\u001b[38;5;124m\"\u001b[39m\u001b[38;5;124mhue\u001b[39m\u001b[38;5;124m\"\u001b[39m, \u001b[38;5;124m\"\u001b[39m\u001b[38;5;124msize\u001b[39m\u001b[38;5;124m\"\u001b[39m, \u001b[38;5;124m\"\u001b[39m\u001b[38;5;124mstyle\u001b[39m\u001b[38;5;124m\"\u001b[39m]:\n",
      "File \u001b[0;32m~/py/pyt/lib/python3.12/site-packages/seaborn/_base.py:679\u001b[0m, in \u001b[0;36mVectorPlotter.assign_variables\u001b[0;34m(self, data, variables)\u001b[0m\n\u001b[1;32m    674\u001b[0m \u001b[38;5;28;01melse\u001b[39;00m:\n\u001b[1;32m    675\u001b[0m     \u001b[38;5;66;03m# When dealing with long-form input, use the newer PlotData\u001b[39;00m\n\u001b[1;32m    676\u001b[0m     \u001b[38;5;66;03m# object (internal but introduced for the objects interface)\u001b[39;00m\n\u001b[1;32m    677\u001b[0m     \u001b[38;5;66;03m# to centralize / standardize data consumption logic.\u001b[39;00m\n\u001b[1;32m    678\u001b[0m     \u001b[38;5;28mself\u001b[39m\u001b[38;5;241m.\u001b[39minput_format \u001b[38;5;241m=\u001b[39m \u001b[38;5;124m\"\u001b[39m\u001b[38;5;124mlong\u001b[39m\u001b[38;5;124m\"\u001b[39m\n\u001b[0;32m--> 679\u001b[0m     plot_data \u001b[38;5;241m=\u001b[39m \u001b[43mPlotData\u001b[49m\u001b[43m(\u001b[49m\u001b[43mdata\u001b[49m\u001b[43m,\u001b[49m\u001b[43m \u001b[49m\u001b[43mvariables\u001b[49m\u001b[43m)\u001b[49m\n\u001b[1;32m    680\u001b[0m     frame \u001b[38;5;241m=\u001b[39m plot_data\u001b[38;5;241m.\u001b[39mframe\n\u001b[1;32m    681\u001b[0m     names \u001b[38;5;241m=\u001b[39m plot_data\u001b[38;5;241m.\u001b[39mnames\n",
      "File \u001b[0;32m~/py/pyt/lib/python3.12/site-packages/seaborn/_core/data.py:58\u001b[0m, in \u001b[0;36mPlotData.__init__\u001b[0;34m(self, data, variables)\u001b[0m\n\u001b[1;32m     51\u001b[0m \u001b[38;5;28;01mdef\u001b[39;00m \u001b[38;5;21m__init__\u001b[39m(\n\u001b[1;32m     52\u001b[0m     \u001b[38;5;28mself\u001b[39m,\n\u001b[1;32m     53\u001b[0m     data: DataSource,\n\u001b[1;32m     54\u001b[0m     variables: \u001b[38;5;28mdict\u001b[39m[\u001b[38;5;28mstr\u001b[39m, VariableSpec],\n\u001b[1;32m     55\u001b[0m ):\n\u001b[1;32m     57\u001b[0m     data \u001b[38;5;241m=\u001b[39m handle_data_source(data)\n\u001b[0;32m---> 58\u001b[0m     frame, names, ids \u001b[38;5;241m=\u001b[39m \u001b[38;5;28;43mself\u001b[39;49m\u001b[38;5;241;43m.\u001b[39;49m\u001b[43m_assign_variables\u001b[49m\u001b[43m(\u001b[49m\u001b[43mdata\u001b[49m\u001b[43m,\u001b[49m\u001b[43m \u001b[49m\u001b[43mvariables\u001b[49m\u001b[43m)\u001b[49m\n\u001b[1;32m     60\u001b[0m     \u001b[38;5;28mself\u001b[39m\u001b[38;5;241m.\u001b[39mframe \u001b[38;5;241m=\u001b[39m frame\n\u001b[1;32m     61\u001b[0m     \u001b[38;5;28mself\u001b[39m\u001b[38;5;241m.\u001b[39mnames \u001b[38;5;241m=\u001b[39m names\n",
      "File \u001b[0;32m~/py/pyt/lib/python3.12/site-packages/seaborn/_core/data.py:232\u001b[0m, in \u001b[0;36mPlotData._assign_variables\u001b[0;34m(self, data, variables)\u001b[0m\n\u001b[1;32m    230\u001b[0m     \u001b[38;5;28;01melse\u001b[39;00m:\n\u001b[1;32m    231\u001b[0m         err \u001b[38;5;241m+\u001b[39m\u001b[38;5;241m=\u001b[39m \u001b[38;5;124m\"\u001b[39m\u001b[38;5;124mAn entry with this name does not appear in `data`.\u001b[39m\u001b[38;5;124m\"\u001b[39m\n\u001b[0;32m--> 232\u001b[0m     \u001b[38;5;28;01mraise\u001b[39;00m \u001b[38;5;167;01mValueError\u001b[39;00m(err)\n\u001b[1;32m    234\u001b[0m \u001b[38;5;28;01melse\u001b[39;00m:\n\u001b[1;32m    235\u001b[0m \n\u001b[1;32m    236\u001b[0m     \u001b[38;5;66;03m# Otherwise, assume the value somehow represents data\u001b[39;00m\n\u001b[1;32m    237\u001b[0m \n\u001b[1;32m    238\u001b[0m     \u001b[38;5;66;03m# Ignore empty data structures\u001b[39;00m\n\u001b[1;32m    239\u001b[0m     \u001b[38;5;28;01mif\u001b[39;00m \u001b[38;5;28misinstance\u001b[39m(val, Sized) \u001b[38;5;129;01mand\u001b[39;00m \u001b[38;5;28mlen\u001b[39m(val) \u001b[38;5;241m==\u001b[39m \u001b[38;5;241m0\u001b[39m:\n",
      "\u001b[0;31mValueError\u001b[0m: Could not interpret value `Normalized_Affinity` for `y`. An entry with this name does not appear in `data`."
     ]
    },
    {
     "data": {
      "text/plain": [
       "<Figure size 1200x600 with 0 Axes>"
      ]
     },
     "metadata": {},
     "output_type": "display_data"
    }
   ],
   "source": [
    "plt.figure(figsize=(12, 6))\n",
    "\n",
    "# Bar plot\n",
    "bar_plot = sns.barplot(x=\"ProductType\", y=\"Normalized_Affinity\", data=df, palette=\"muted\", alpha=0.7)\n",
    "plt.xticks(rotation=45)\n",
    "plt.xlabel('Product Type')\n",
    "plt.ylabel('Normalized Affinity Score')\n",
    "plt.ylim(0, 1)\n",
    "plt.title('Normalized Affinity Scores by Product Type')\n",
    "\n",
    "# Adding values on top of the bars\n",
    "for index, row in df.iterrows():\n",
    "    bar_plot.text(row.name, row.Normalized_Affinity + 0.02, round(row.Normalized_Affinity, 2), color='black', ha=\"center\")\n",
    "\n",
    "plt.show()"
   ]
  },
  {
   "cell_type": "code",
   "execution_count": null,
   "metadata": {},
   "outputs": [],
   "source": [
    "high_affin.to_excel('high_affin.xlsx', index=False)"
   ]
  },
  {
   "cell_type": "code",
   "execution_count": null,
   "metadata": {},
   "outputs": [
    {
     "name": "stderr",
     "output_type": "stream",
     "text": [
      "/var/folders/sy/r49glz6958l7lh1w01w956wh0000gn/T/ipykernel_2084/592155232.py:1: FutureWarning: The default of observed=False is deprecated and will be changed to True in a future version of pandas. Pass observed=False to retain current behavior or observed=True to adopt the future default and silence this warning.\n",
      "  top_brands =  E2.groupby('Brand')['Affinity'].mean().reset_index()\n"
     ]
    }
   ],
   "source": [
    "top_brands =  E2.groupby('Brand')['Affinity'].mean().reset_index()"
   ]
  },
  {
   "cell_type": "code",
   "execution_count": null,
   "metadata": {},
   "outputs": [],
   "source": [
    "top_brands = top_brands.sort_values('Affinity', ascending=False).head(10)\n",
    "\n",
    "top_brands.to_excel('top_brands.xlsx', index=False)"
   ]
  },
  {
   "cell_type": "code",
   "execution_count": null,
   "metadata": {},
   "outputs": [
    {
     "name": "stdout",
     "output_type": "stream",
     "text": [
      "          Brand  Affinity\n",
      "79         Nova  0.764567\n",
      "58      LIVPURE  0.742479\n",
      "51          IFB  0.648269\n",
      "31       Delite  0.566895\n",
      "6         APPLE  0.538680\n",
      "115     ZunVolt  0.526430\n",
      "66          MSI  0.516565\n",
      "62   Lighthouse  0.515317\n",
      "87      Ponmani  0.493000\n",
      "45           HP  0.492255\n"
     ]
    }
   ],
   "source": [
    "print(top_brands)"
   ]
  },
  {
   "cell_type": "code",
   "execution_count": null,
   "metadata": {},
   "outputs": [
    {
     "data": {
      "image/png": "[encoded data removed]",
      "text/plain": [
       "<Figure size 1200x800 with 1 Axes>"
      ]
     },
     "metadata": {},
     "output_type": "display_data"
    }
   ],
   "source": [
    "brands = ['Nova', 'LIVPURE', 'IFB', 'Delite', 'APPLE', 'ZunVolt', 'MSI', 'Lighthouse', 'Ponmani', 'HP']\n",
    "affinity = [0.764567, 0.742479, 0.648269, 0.566895, 0.538680, 0.526430, 0.516565, 0.515317, 0.493000, 0.492255]\n",
    "\n",
    "# Define colors for each bar\n",
    "colors = plt.cm.viridis(np.linspace(0, 1, len(brands)))\n",
    "\n",
    "# Create bar chart\n",
    "plt.figure(figsize=(12, 8))\n",
    "bars = plt.barh(brands, affinity, color=colors)\n",
    "plt.xlabel('Affinity Score')\n",
    "plt.ylabel('Brand')\n",
    "plt.title('Brand Affinity Scores')\n",
    "plt.gca().invert_yaxis()  # Invert y-axis to have the highest affinity at the top\n",
    "\n",
    "# Add text labels to each bar\n",
    "for bar in bars:\n",
    "    plt.text(bar.get_width(), bar.get_y() + bar.get_height()/2, f'{bar.get_width():.2f}', \n",
    "             va='center', ha='left', fontsize=10, color='black')\n",
    "\n",
    "plt.show()"
   ]
  },
  {
   "cell_type": "code",
   "execution_count": null,
   "metadata": {},
   "outputs": [],
   "source": [
    "top_brands.to_excel('high_affin.xlsx', index=False)"
   ]
  },
  {
   "cell_type": "code",
   "execution_count": null,
   "metadata": {},
   "outputs": [],
   "source": [
    "loved_pricecats = E2.groupby('price_category')['Affinity'].mean()"
   ]
  },
  {
   "cell_type": "code",
   "execution_count": null,
   "metadata": {},
   "outputs": [
    {
     "name": "stdout",
     "output_type": "stream",
     "text": [
      "price_category\n",
      "mid-range          0.398927\n",
      "premium            0.444652\n",
      "price-sensitive    0.333247\n",
      "Name: Affinity, dtype: float64\n"
     ]
    }
   ],
   "source": [
    "print(loved_pricecats)"
   ]
  },
  {
   "cell_type": "code",
   "execution_count": null,
   "metadata": {},
   "outputs": [],
   "source": [
    "categories = ['mid-range', 'premium', 'price-sensitive']\n",
    "affinity = [0.398927, 0.444652, 0.333247]\n",
    "\n",
    "# Create horizontal bar chart\n",
    "plt.figure(figsize=(10, 6))\n",
    "bars = plt.barh(categories, affinity, color=['skyblue', 'lightgreen', 'salmon'])\n",
    "plt.xlabel('Affinity Score')\n",
    "plt.ylabel('Price Category')\n",
    "plt.title('Price Category Affinity Scores')\n",
    "plt.gca().invert_yaxis()  # Invert y-axis to have the highest affinity at the top\n",
    "\n",
    "# Add text labels to each bar\n",
    "for bar in bars:\n",
    "    plt.text(bar.get_width(), bar.get_y() + bar.get_height()/2, f'{bar.get_width():.2f}', \n",
    "             va='center', ha='left', fontsize=10, color='black')\n"
   ]
  },
  {
   "cell_type": "code",
   "execution_count": null,
   "metadata": {},
   "outputs": [],
   "source": [
    "loved_pricecats.to_excel('pricecat.xlsx', index='price_category')"
   ]
  },
  {
   "cell_type": "code",
   "execution_count": null,
   "metadata": {},
   "outputs": [],
   "source": [
    "least_liked = high_affin.sort_values('Affinity', ascending=True).head(10)\n"
   ]
  },
  {
   "cell_type": "code",
   "execution_count": null,
   "metadata": {},
   "outputs": [
    {
     "name": "stdout",
     "output_type": "stream",
     "text": [
      "           ProductType  Affinity\n",
      "7               cooler  0.396691\n",
      "19              vacuum  0.404470\n",
      "4       Water Purifier  0.406606\n",
      "20  voltage stabilizer  0.414531\n",
      "11                iron  0.415083\n",
      "18                  tv  0.424964\n",
      "13           microwave  0.427963\n",
      "6               camera  0.445401\n",
      "17             toaster  0.454028\n",
      "12              laptop  0.459892\n"
     ]
    }
   ],
   "source": [
    "print(least_liked)"
   ]
  }
 ],
 "metadata": {
  "kernelspec": {
   "display_name": "pyt",
   "language": "python",
   "name": "python3"
  },
  "language_info": {
   "codemirror_mode": {
    "name": "ipython",
    "version": 3
   },
   "file_extension": ".py",
   "mimetype": "text/x-python",
   "name": "python",
   "nbconvert_exporter": "python",
   "pygments_lexer": "ipython3",
   "version": "3.12.3"
  }
 },
 "nbformat": 4,
 "nbformat_minor": 2
}
